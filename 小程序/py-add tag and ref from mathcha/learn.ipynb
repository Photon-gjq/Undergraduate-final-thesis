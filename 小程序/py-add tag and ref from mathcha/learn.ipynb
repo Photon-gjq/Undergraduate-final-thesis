{
 "cells": [
  {
   "cell_type": "code",
   "execution_count": 7,
   "metadata": {},
   "outputs": [],
   "source": [
    "dat = ['d','n']\n",
    "dat.insert(0,1)"
   ]
  },
  {
   "cell_type": "code",
   "execution_count": 61,
   "metadata": {},
   "outputs": [
    {
     "data": {
      "text/plain": [
       "6"
      ]
     },
     "execution_count": 61,
     "metadata": {},
     "output_type": "execute_result"
    }
   ],
   "source": [
    "dat = [\"a\",\"b\",\"c\",\"a\",\"b\",\"c\"]\n",
    "temp = [\"a\",\"b\",\"c\",\"a\",\"b\",\"c\"]\n",
    "len(dat)"
   ]
  },
  {
   "cell_type": "code",
   "execution_count": 62,
   "metadata": {},
   "outputs": [],
   "source": [
    "i = 0\n",
    "for i in range(len(dat)):\n",
    "    if dat[i] == \"b\":\n",
    "        temp.insert(i,str(i))"
   ]
  },
  {
   "cell_type": "code",
   "execution_count": 64,
   "metadata": {},
   "outputs": [
    {
     "data": {
      "text/plain": [
       "['a', '1', 'b', 'c', '4', 'a', 'b', 'c']"
      ]
     },
     "execution_count": 64,
     "metadata": {},
     "output_type": "execute_result"
    }
   ],
   "source": [
    "temp"
   ]
  },
  {
   "cell_type": "code",
   "execution_count": 69,
   "metadata": {},
   "outputs": [
    {
     "name": "stdout",
     "output_type": "stream",
     "text": [
      "['因此，我们如果要计算曲率二形式的分量，我们会用\\n', '\\\\begin{equation}\\n', '\\t\\\\boldsymbol{\\\\upOmega}{_{a}}^{c} =\\\\mathrm{d}\\\\boldsymbol{\\\\omega}{_{a}}^{c} -\\\\boldsymbol{\\\\omega}{_{a}}^{b} \\\\land \\\\boldsymbol{\\\\omega}{_{b}}^{c} .\\n', '\\\\end{equation}\\n', '\\n', '\\\\subsection{与自旋系数的关系}\\n', '\\n', '现在我们用$\\\\epsilon {_{\\\\boldsymbol{A}}}^{A}$构建张量基$g{_{\\\\boldsymbol{a}}}^{a}$，并取归一化$\\\\chi =1$。那么我们可以取1形式基底为\\n', '\\\\begin{equation*}\\n', \"\\t\\\\boldsymbol{\\\\theta}^{AA'} =g{_{\\\\boldsymbol{i}_{1}}}^{AA'} ,\\n\", '\\\\end{equation*}\\n', '这里我们记\\n', '\\\\begin{equation*}\\n', \"\\t\\\\boldsymbol{\\\\theta}^{00'} =\\\\boldsymbol{n} ,\\\\kern+0.4em \\\\boldsymbol{\\\\theta}^{01'} =-\\\\overline{\\\\boldsymbol{m}} ,\\\\boldsymbol{\\\\kern+0.4em }\\\\boldsymbol{\\\\theta}^{10'} =-\\\\boldsymbol{m} ,\\\\kern+0.4em \\\\boldsymbol{\\\\theta}^{11'} =\\\\boldsymbol{l} .\\n\", '\\\\end{equation*}\\n', '在坐标基下，我们有\\n', '\\\\begin{equation*}\\n', \"\\t\\\\boldsymbol{\\\\theta}^{AA'} =g{_{a}}^{AA'}\\\\mathrm{d} x^{a} ,\\n\", '\\\\end{equation*}\\n', '即英菲尔德-范德瓦尔登符号。传统的度规的形式可以被表达为\\n', '\\\\begin{equation}\\n', '\\t\\\\begin{aligned}\\n', \"\\t\\t\\\\mathrm{d} s^{2} =g_{ab}\\\\mathrm{d} x^{a}\\\\mathrm{d} x^{b} & =\\\\epsilon _{AB} \\\\epsilon _{A'B'} g{_{a}}^{AA'} g{_{b}}^{BB'}\\\\mathrm{d} x^{a}\\\\mathrm{d} x^{b}\\\\\\\\\\n\", \"\\t\\t& =2(g{_{a}}^{00'}\\\\mathrm{d} x^{a} )(g{_{b}}^{11'}\\\\mathrm{d} x^{b} )-2(g{_{a}}^{01'}\\\\mathrm{d} x^{a} )(g{_{b}}^{10'}\\\\mathrm{d} x^{b} ),\\n\", '\\t\\\\end{aligned}\\n', '\\\\end{equation}']\n",
      "<_io.TextIOWrapper name='b.tex' mode='r' encoding='UTF-8'>\n"
     ]
    }
   ],
   "source": [
    "with open(\"b.tex\",\"r\",encoding=\"UTF-8\") as fp:\n",
    "    data = fp.readlines()\n",
    "    temp = fp\n",
    "    # i = 0\n",
    "    # j = 1\n",
    "    # for i in range(len(data)):\n",
    "    #     if data[i] == '\\\\end{equation}\\n':\n",
    "    #         temp.insert(i, '\\t\\\\label{eq:5.' + str(j) + '}')\n",
    "    \n",
    "print(data)\n",
    "print(temp)"
   ]
  },
  {
   "cell_type": "code",
   "execution_count": null,
   "metadata": {},
   "outputs": [],
   "source": []
  }
 ],
 "metadata": {
  "interpreter": {
   "hash": "e89691e4663d647bc11c8a9859f5cdd56224e794f653bdd6c406cd9780fe241b"
  },
  "kernelspec": {
   "display_name": "Python 3.9.6 64-bit",
   "language": "python",
   "name": "python3"
  },
  "language_info": {
   "codemirror_mode": {
    "name": "ipython",
    "version": 3
   },
   "file_extension": ".py",
   "mimetype": "text/x-python",
   "name": "python",
   "nbconvert_exporter": "python",
   "pygments_lexer": "ipython3",
   "version": "3.9.6"
  },
  "orig_nbformat": 4
 },
 "nbformat": 4,
 "nbformat_minor": 2
}
